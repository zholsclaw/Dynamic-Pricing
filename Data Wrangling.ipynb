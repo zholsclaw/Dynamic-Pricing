{
 "cells": [
  {
   "cell_type": "code",
   "execution_count": 1,
   "id": "183268ee",
   "metadata": {},
   "outputs": [],
   "source": [
    "import seaborn as sns\n",
    "import pandas as pd\n",
    "import numpy as np\n",
    "import matplotlib.pyplot as plt\n",
    "import datetime"
   ]
  },
  {
   "cell_type": "markdown",
   "id": "5b3870af",
   "metadata": {},
   "source": []
  },
  {
   "cell_type": "markdown",
   "id": "00e8d0c8",
   "metadata": {},
   "source": [
    "I will be analyzing a new 'dynamic pricing' model that has been recently implemented by a local pest control company in 2021. To briefly describe, the pricing model is for an annual service which is composed of an initial price, followed by monthly reoccurring payments. The original pricing model was simply based on the square footage of the home. With this new dynamic pricing, certain zip codes have increased rates.\n",
    "\n",
    "There are 3 main data sources which have been pulled form the companies sales records.\n",
    "\n",
    "1. **Pricing** - An excel spreadsheet that gives pricing for each zip code\n",
    "2. **Leads** - Information for all created leads which may or may not have generated a sale\n",
    "3. **Sales** - Invoices for all new accounts"
   ]
  },
  {
   "cell_type": "code",
   "execution_count": 2,
   "id": "ddc8bd89",
   "metadata": {},
   "outputs": [],
   "source": [
    "d_pricing_filepath = 'data\\dynamic-pricing-2021.xlsx'\n",
    "lead_filepath = 'data\\leads-2021.xlsx'\n",
    "invoice_filepath = 'data\\invoices-2021.xlsx'"
   ]
  },
  {
   "cell_type": "code",
   "execution_count": 3,
   "id": "9018c4ca",
   "metadata": {},
   "outputs": [],
   "source": [
    "df_pricing = pd.read_excel(d_pricing_filepath, dtype={'Zip Code': object})"
   ]
  },
  {
   "cell_type": "code",
   "execution_count": 4,
   "id": "e662380a",
   "metadata": {},
   "outputs": [],
   "source": [
    "df_pricing.columns = ['Zip Code', 'State', 'County', 'Towns', 'Initial 2000', 'Monthly 2000', 'Initial 3000', 'Monthly 3000', 'Initial 3500', 'Monthly 3500', 'Initial 4000', 'Monthly 4000', 'Initial 5000', 'Monthly 5000', 'Initial 6000', 'Monthly 6000', 'Initial 7000', 'Monthly 7000']\n",
    "price_cols = ['Initial 2000', 'Monthly 2000', 'Initial 3000', 'Monthly 3000', 'Initial 3500', 'Monthly 3500', 'Initial 4000', 'Monthly 4000', 'Initial 5000', 'Monthly 5000', 'Initial 6000', 'Monthly 6000', 'Initial 7000', 'Monthly 7000']"
   ]
  },
  {
   "cell_type": "code",
   "execution_count": 5,
   "id": "0e471bd9",
   "metadata": {},
   "outputs": [],
   "source": [
    "df_pricing[price_cols] = round(df_pricing[price_cols], 2)"
   ]
  },
  {
   "cell_type": "code",
   "execution_count": 6,
   "id": "e287fae1",
   "metadata": {
    "scrolled": true
   },
   "outputs": [
    {
     "data": {
      "text/html": [
       "<div>\n",
       "<style scoped>\n",
       "    .dataframe tbody tr th:only-of-type {\n",
       "        vertical-align: middle;\n",
       "    }\n",
       "\n",
       "    .dataframe tbody tr th {\n",
       "        vertical-align: top;\n",
       "    }\n",
       "\n",
       "    .dataframe thead th {\n",
       "        text-align: right;\n",
       "    }\n",
       "</style>\n",
       "<table border=\"1\" class=\"dataframe\">\n",
       "  <thead>\n",
       "    <tr style=\"text-align: right;\">\n",
       "      <th></th>\n",
       "      <th>Zip Code</th>\n",
       "      <th>State</th>\n",
       "      <th>County</th>\n",
       "      <th>Towns</th>\n",
       "      <th>Initial 2000</th>\n",
       "      <th>Monthly 2000</th>\n",
       "      <th>Initial 3000</th>\n",
       "      <th>Monthly 3000</th>\n",
       "      <th>Initial 3500</th>\n",
       "      <th>Monthly 3500</th>\n",
       "      <th>Initial 4000</th>\n",
       "      <th>Monthly 4000</th>\n",
       "      <th>Initial 5000</th>\n",
       "      <th>Monthly 5000</th>\n",
       "      <th>Initial 6000</th>\n",
       "      <th>Monthly 6000</th>\n",
       "      <th>Initial 7000</th>\n",
       "      <th>Monthly 7000</th>\n",
       "    </tr>\n",
       "  </thead>\n",
       "  <tbody>\n",
       "    <tr>\n",
       "      <th>0</th>\n",
       "      <td>01001</td>\n",
       "      <td>Massachusetts</td>\n",
       "      <td>Hampden</td>\n",
       "      <td>West Springfield Town; Agawam Town</td>\n",
       "      <td>214.99</td>\n",
       "      <td>42.99</td>\n",
       "      <td>229.99</td>\n",
       "      <td>44.99</td>\n",
       "      <td>249.99</td>\n",
       "      <td>47.99</td>\n",
       "      <td>299.99</td>\n",
       "      <td>54.99</td>\n",
       "      <td>399.99</td>\n",
       "      <td>64.99</td>\n",
       "      <td>549.99</td>\n",
       "      <td>64.99</td>\n",
       "      <td>599.99</td>\n",
       "      <td>69.99</td>\n",
       "    </tr>\n",
       "    <tr>\n",
       "      <th>1</th>\n",
       "      <td>01002</td>\n",
       "      <td>Massachusetts</td>\n",
       "      <td>Hampshire; Franklin</td>\n",
       "      <td>Pelham; Shutesbury; Amherst</td>\n",
       "      <td>214.99</td>\n",
       "      <td>42.99</td>\n",
       "      <td>229.99</td>\n",
       "      <td>44.99</td>\n",
       "      <td>249.99</td>\n",
       "      <td>47.99</td>\n",
       "      <td>299.99</td>\n",
       "      <td>54.99</td>\n",
       "      <td>399.99</td>\n",
       "      <td>64.99</td>\n",
       "      <td>549.99</td>\n",
       "      <td>64.99</td>\n",
       "      <td>599.99</td>\n",
       "      <td>69.99</td>\n",
       "    </tr>\n",
       "    <tr>\n",
       "      <th>2</th>\n",
       "      <td>01003</td>\n",
       "      <td>Massachusetts</td>\n",
       "      <td>Hampshire</td>\n",
       "      <td>Amherst</td>\n",
       "      <td>214.99</td>\n",
       "      <td>42.99</td>\n",
       "      <td>229.99</td>\n",
       "      <td>44.99</td>\n",
       "      <td>249.99</td>\n",
       "      <td>47.99</td>\n",
       "      <td>299.99</td>\n",
       "      <td>54.99</td>\n",
       "      <td>399.99</td>\n",
       "      <td>64.99</td>\n",
       "      <td>549.99</td>\n",
       "      <td>64.99</td>\n",
       "      <td>599.99</td>\n",
       "      <td>69.99</td>\n",
       "    </tr>\n",
       "    <tr>\n",
       "      <th>3</th>\n",
       "      <td>01005</td>\n",
       "      <td>Massachusetts</td>\n",
       "      <td>Worcester</td>\n",
       "      <td>Barre</td>\n",
       "      <td>214.99</td>\n",
       "      <td>42.99</td>\n",
       "      <td>229.99</td>\n",
       "      <td>44.99</td>\n",
       "      <td>249.99</td>\n",
       "      <td>47.99</td>\n",
       "      <td>299.99</td>\n",
       "      <td>54.99</td>\n",
       "      <td>399.99</td>\n",
       "      <td>64.99</td>\n",
       "      <td>549.99</td>\n",
       "      <td>64.99</td>\n",
       "      <td>599.99</td>\n",
       "      <td>69.99</td>\n",
       "    </tr>\n",
       "    <tr>\n",
       "      <th>4</th>\n",
       "      <td>01007</td>\n",
       "      <td>Massachusetts</td>\n",
       "      <td>Hampshire; Franklin</td>\n",
       "      <td>New Salem; Ware; Belchertown</td>\n",
       "      <td>239.99</td>\n",
       "      <td>47.99</td>\n",
       "      <td>249.99</td>\n",
       "      <td>49.99</td>\n",
       "      <td>289.99</td>\n",
       "      <td>55.99</td>\n",
       "      <td>349.99</td>\n",
       "      <td>65.99</td>\n",
       "      <td>449.99</td>\n",
       "      <td>69.99</td>\n",
       "      <td>689.99</td>\n",
       "      <td>79.99</td>\n",
       "      <td>659.99</td>\n",
       "      <td>76.99</td>\n",
       "    </tr>\n",
       "  </tbody>\n",
       "</table>\n",
       "</div>"
      ],
      "text/plain": [
       "  Zip Code          State               County  \\\n",
       "0    01001  Massachusetts              Hampden   \n",
       "1    01002  Massachusetts  Hampshire; Franklin   \n",
       "2    01003  Massachusetts            Hampshire   \n",
       "3    01005  Massachusetts            Worcester   \n",
       "4    01007  Massachusetts  Hampshire; Franklin   \n",
       "\n",
       "                                Towns  Initial 2000  Monthly 2000  \\\n",
       "0  West Springfield Town; Agawam Town        214.99         42.99   \n",
       "1         Pelham; Shutesbury; Amherst        214.99         42.99   \n",
       "2                             Amherst        214.99         42.99   \n",
       "3                               Barre        214.99         42.99   \n",
       "4        New Salem; Ware; Belchertown        239.99         47.99   \n",
       "\n",
       "   Initial 3000  Monthly 3000  Initial 3500  Monthly 3500  Initial 4000  \\\n",
       "0        229.99         44.99        249.99         47.99        299.99   \n",
       "1        229.99         44.99        249.99         47.99        299.99   \n",
       "2        229.99         44.99        249.99         47.99        299.99   \n",
       "3        229.99         44.99        249.99         47.99        299.99   \n",
       "4        249.99         49.99        289.99         55.99        349.99   \n",
       "\n",
       "   Monthly 4000  Initial 5000  Monthly 5000  Initial 6000  Monthly 6000  \\\n",
       "0         54.99        399.99         64.99        549.99         64.99   \n",
       "1         54.99        399.99         64.99        549.99         64.99   \n",
       "2         54.99        399.99         64.99        549.99         64.99   \n",
       "3         54.99        399.99         64.99        549.99         64.99   \n",
       "4         65.99        449.99         69.99        689.99         79.99   \n",
       "\n",
       "   Initial 7000  Monthly 7000  \n",
       "0        599.99         69.99  \n",
       "1        599.99         69.99  \n",
       "2        599.99         69.99  \n",
       "3        599.99         69.99  \n",
       "4        659.99         76.99  "
      ]
     },
     "execution_count": 6,
     "metadata": {},
     "output_type": "execute_result"
    }
   ],
   "source": [
    "df_pricing.head()"
   ]
  },
  {
   "cell_type": "code",
   "execution_count": 7,
   "id": "9875341d",
   "metadata": {},
   "outputs": [
    {
     "data": {
      "text/plain": [
       "Zip Code        0\n",
       "State           0\n",
       "County          0\n",
       "Towns           1\n",
       "Initial 2000    0\n",
       "Monthly 2000    0\n",
       "Initial 3000    0\n",
       "Monthly 3000    0\n",
       "Initial 3500    0\n",
       "Monthly 3500    0\n",
       "Initial 4000    0\n",
       "Monthly 4000    0\n",
       "Initial 5000    0\n",
       "Monthly 5000    0\n",
       "Initial 6000    0\n",
       "Monthly 6000    0\n",
       "Initial 7000    0\n",
       "Monthly 7000    0\n",
       "dtype: int64"
      ]
     },
     "execution_count": 7,
     "metadata": {},
     "output_type": "execute_result"
    }
   ],
   "source": [
    "df_pricing.isna().sum()"
   ]
  },
  {
   "cell_type": "code",
   "execution_count": 8,
   "id": "d953b19f",
   "metadata": {},
   "outputs": [
    {
     "data": {
      "text/plain": [
       "Zip Code         object\n",
       "State            object\n",
       "County           object\n",
       "Towns            object\n",
       "Initial 2000    float64\n",
       "Monthly 2000    float64\n",
       "Initial 3000    float64\n",
       "Monthly 3000    float64\n",
       "Initial 3500    float64\n",
       "Monthly 3500    float64\n",
       "Initial 4000    float64\n",
       "Monthly 4000    float64\n",
       "Initial 5000    float64\n",
       "Monthly 5000    float64\n",
       "Initial 6000    float64\n",
       "Monthly 6000    float64\n",
       "Initial 7000    float64\n",
       "Monthly 7000    float64\n",
       "dtype: object"
      ]
     },
     "execution_count": 8,
     "metadata": {},
     "output_type": "execute_result"
    }
   ],
   "source": [
    "df_pricing.dtypes"
   ]
  },
  {
   "cell_type": "markdown",
   "id": "6343bb99",
   "metadata": {},
   "source": [
    "<br><br>\n",
    "Lets take a look at the pricing structure, and the distribution of dynamically priced zip codes.\n",
    "<br><br>"
   ]
  },
  {
   "cell_type": "code",
   "execution_count": 9,
   "id": "4deb08b2",
   "metadata": {},
   "outputs": [
    {
     "data": {
      "image/png": "[encoded data removed]",
      "text/plain": [
       "<Figure size 1152x1728 with 14 Axes>"
      ]
     },
     "metadata": {},
     "output_type": "display_data"
    }
   ],
   "source": [
    "nrows = 7\n",
    "ncols = 2\n",
    "\n",
    "fig, axes = plt.subplots(nrows, ncols, figsize=(16, 24))\n",
    "axe = axes.ravel()\n",
    "\n",
    "\n",
    "ax_count = 0\n",
    "for i in range(int(len(price_cols)/2)):\n",
    "    df_pricing[price_cols[2*i]].value_counts().sort_index().plot(kind='pie', ax=axe[2*i], autopct='%1.1f%%')\n",
    "    df_pricing[price_cols[2*i + 1]].value_counts().sort_index().plot(kind='pie', ax=axe[2*i + 1], autopct='%1.1f%%')\n",
    "plt.show();"
   ]
  },
  {
   "cell_type": "markdown",
   "id": "0bbc0033",
   "metadata": {},
   "source": [
    "To simply our analysis we will use the typical pricing structre that we see in the <2000 sq ft home category. We will use the zip codes from this column to categorize each lead and sale as either priced at the standard rate or dynamically priced due to the zip code. We will add a new column 'price_tier' which will be '0' as the lowest pricing option, then 1, 2, 3, and 4 for the increasingly higher pricing tiers."
   ]
  },
  {
   "cell_type": "code",
   "execution_count": 10,
   "id": "aa134b10",
   "metadata": {},
   "outputs": [],
   "source": [
    "prices = sorted(df_pricing['Initial 2000'].unique().tolist())\n",
    "map_prices = {key: value for (value, key) in enumerate(prices)}"
   ]
  },
  {
   "cell_type": "code",
   "execution_count": 11,
   "id": "28b7365d",
   "metadata": {},
   "outputs": [],
   "source": [
    "df_pricing['price_tier'] = df_pricing['Initial 2000'].map(map_prices)\n",
    "df_zipcodes = df_pricing[['Zip Code', 'price_tier']]"
   ]
  },
  {
   "cell_type": "code",
   "execution_count": 12,
   "id": "7cee93dd",
   "metadata": {},
   "outputs": [
    {
     "data": {
      "text/html": [
       "<div>\n",
       "<style scoped>\n",
       "    .dataframe tbody tr th:only-of-type {\n",
       "        vertical-align: middle;\n",
       "    }\n",
       "\n",
       "    .dataframe tbody tr th {\n",
       "        vertical-align: top;\n",
       "    }\n",
       "\n",
       "    .dataframe thead th {\n",
       "        text-align: right;\n",
       "    }\n",
       "</style>\n",
       "<table border=\"1\" class=\"dataframe\">\n",
       "  <thead>\n",
       "    <tr style=\"text-align: right;\">\n",
       "      <th></th>\n",
       "      <th>Zip Code</th>\n",
       "      <th>price_tier</th>\n",
       "    </tr>\n",
       "  </thead>\n",
       "  <tbody>\n",
       "    <tr>\n",
       "      <th>0</th>\n",
       "      <td>01001</td>\n",
       "      <td>0</td>\n",
       "    </tr>\n",
       "    <tr>\n",
       "      <th>1</th>\n",
       "      <td>01002</td>\n",
       "      <td>0</td>\n",
       "    </tr>\n",
       "    <tr>\n",
       "      <th>2</th>\n",
       "      <td>01003</td>\n",
       "      <td>0</td>\n",
       "    </tr>\n",
       "    <tr>\n",
       "      <th>3</th>\n",
       "      <td>01005</td>\n",
       "      <td>0</td>\n",
       "    </tr>\n",
       "    <tr>\n",
       "      <th>4</th>\n",
       "      <td>01007</td>\n",
       "      <td>2</td>\n",
       "    </tr>\n",
       "  </tbody>\n",
       "</table>\n",
       "</div>"
      ],
      "text/plain": [
       "  Zip Code  price_tier\n",
       "0    01001           0\n",
       "1    01002           0\n",
       "2    01003           0\n",
       "3    01005           0\n",
       "4    01007           2"
      ]
     },
     "execution_count": 12,
     "metadata": {},
     "output_type": "execute_result"
    }
   ],
   "source": [
    "df_zipcodes.head()"
   ]
  },
  {
   "cell_type": "markdown",
   "id": "26e81081",
   "metadata": {},
   "source": [
    "<br><br>\n",
    "So now we have mapped a category based on the prices. We can now use this to categorize each lead and sale based on their zip codes price.\n",
    "\n",
    "Lets load our lead and invoice data to begin."
   ]
  },
  {
   "cell_type": "code",
   "execution_count": 13,
   "id": "25e8d4e1",
   "metadata": {},
   "outputs": [],
   "source": [
    "df_leads = pd.read_excel(lead_filepath, dtype={'Zip Code': object})\n",
    "df_invoices = pd.read_excel(invoice_filepath, dtype={'Zip Code': object})"
   ]
  },
  {
   "cell_type": "code",
   "execution_count": 14,
   "id": "ea270334",
   "metadata": {},
   "outputs": [
    {
     "data": {
      "text/html": [
       "<div>\n",
       "<style scoped>\n",
       "    .dataframe tbody tr th:only-of-type {\n",
       "        vertical-align: middle;\n",
       "    }\n",
       "\n",
       "    .dataframe tbody tr th {\n",
       "        vertical-align: top;\n",
       "    }\n",
       "\n",
       "    .dataframe thead th {\n",
       "        text-align: right;\n",
       "    }\n",
       "</style>\n",
       "<table border=\"1\" class=\"dataframe\">\n",
       "  <thead>\n",
       "    <tr style=\"text-align: right;\">\n",
       "      <th></th>\n",
       "      <th>Location</th>\n",
       "      <th>City</th>\n",
       "      <th>State</th>\n",
       "      <th>Zip Code</th>\n",
       "      <th>Won Status</th>\n",
       "      <th>Latitude</th>\n",
       "      <th>Longitude</th>\n",
       "      <th>Received Date</th>\n",
       "      <th>Program</th>\n",
       "      <th>Salesperson</th>\n",
       "      <th>Branch</th>\n",
       "    </tr>\n",
       "  </thead>\n",
       "  <tbody>\n",
       "    <tr>\n",
       "      <th>0</th>\n",
       "      <td>498895</td>\n",
       "      <td>CLINTON</td>\n",
       "      <td>ME</td>\n",
       "      <td>04927-3705</td>\n",
       "      <td>Sold Alternative</td>\n",
       "      <td>44.66038</td>\n",
       "      <td>-69.57509</td>\n",
       "      <td>2021-01-02</td>\n",
       "      <td>HOMECARE</td>\n",
       "      <td>JKEAN</td>\n",
       "      <td>Katahdin</td>\n",
       "    </tr>\n",
       "    <tr>\n",
       "      <th>1</th>\n",
       "      <td>498900</td>\n",
       "      <td>LEEDS</td>\n",
       "      <td>ME</td>\n",
       "      <td>04263-3452</td>\n",
       "      <td>Won</td>\n",
       "      <td>44.24209</td>\n",
       "      <td>-70.13676</td>\n",
       "      <td>2021-01-04</td>\n",
       "      <td>HOMECARE</td>\n",
       "      <td>KGISH</td>\n",
       "      <td>Katahdin</td>\n",
       "    </tr>\n",
       "    <tr>\n",
       "      <th>2</th>\n",
       "      <td>498899</td>\n",
       "      <td>PORTLAND</td>\n",
       "      <td>ME</td>\n",
       "      <td>04103-2044</td>\n",
       "      <td>Lost</td>\n",
       "      <td>43.70665</td>\n",
       "      <td>-70.29366</td>\n",
       "      <td>2021-01-04</td>\n",
       "      <td>HOMECARE</td>\n",
       "      <td>CMARTIN</td>\n",
       "      <td>Portland</td>\n",
       "    </tr>\n",
       "    <tr>\n",
       "      <th>3</th>\n",
       "      <td>498902</td>\n",
       "      <td>PORTLAND</td>\n",
       "      <td>ME</td>\n",
       "      <td>04102-2235</td>\n",
       "      <td>Lost</td>\n",
       "      <td>43.65946</td>\n",
       "      <td>-70.29474</td>\n",
       "      <td>2021-01-04</td>\n",
       "      <td>HOMECARE</td>\n",
       "      <td>KDOCHOD</td>\n",
       "      <td>Portland</td>\n",
       "    </tr>\n",
       "    <tr>\n",
       "      <th>4</th>\n",
       "      <td>498904</td>\n",
       "      <td>NORWALK</td>\n",
       "      <td>CT</td>\n",
       "      <td>06853-1026</td>\n",
       "      <td>Won</td>\n",
       "      <td>41.07624</td>\n",
       "      <td>-73.44456</td>\n",
       "      <td>2021-01-04</td>\n",
       "      <td>HOMECARE</td>\n",
       "      <td>CMARTIN</td>\n",
       "      <td>New Haven</td>\n",
       "    </tr>\n",
       "  </tbody>\n",
       "</table>\n",
       "</div>"
      ],
      "text/plain": [
       "  Location      City State    Zip Code        Won Status  Latitude  Longitude  \\\n",
       "0   498895   CLINTON    ME  04927-3705  Sold Alternative  44.66038  -69.57509   \n",
       "1   498900     LEEDS    ME  04263-3452               Won  44.24209  -70.13676   \n",
       "2   498899  PORTLAND    ME  04103-2044              Lost  43.70665  -70.29366   \n",
       "3   498902  PORTLAND    ME  04102-2235              Lost  43.65946  -70.29474   \n",
       "4   498904   NORWALK    CT  06853-1026               Won  41.07624  -73.44456   \n",
       "\n",
       "  Received Date   Program Salesperson     Branch  \n",
       "0    2021-01-02  HOMECARE       JKEAN   Katahdin  \n",
       "1    2021-01-04  HOMECARE       KGISH   Katahdin  \n",
       "2    2021-01-04  HOMECARE     CMARTIN   Portland  \n",
       "3    2021-01-04  HOMECARE     KDOCHOD   Portland  \n",
       "4    2021-01-04  HOMECARE     CMARTIN  New Haven  "
      ]
     },
     "execution_count": 14,
     "metadata": {},
     "output_type": "execute_result"
    }
   ],
   "source": [
    "df_leads.head()"
   ]
  },
  {
   "cell_type": "code",
   "execution_count": 15,
   "id": "81b77ba4",
   "metadata": {},
   "outputs": [
    {
     "data": {
      "text/html": [
       "<div>\n",
       "<style scoped>\n",
       "    .dataframe tbody tr th:only-of-type {\n",
       "        vertical-align: middle;\n",
       "    }\n",
       "\n",
       "    .dataframe tbody tr th {\n",
       "        vertical-align: top;\n",
       "    }\n",
       "\n",
       "    .dataframe thead th {\n",
       "        text-align: right;\n",
       "    }\n",
       "</style>\n",
       "<table border=\"1\" class=\"dataframe\">\n",
       "  <thead>\n",
       "    <tr style=\"text-align: right;\">\n",
       "      <th></th>\n",
       "      <th>Location</th>\n",
       "      <th>City</th>\n",
       "      <th>State</th>\n",
       "      <th>Zip Code</th>\n",
       "      <th>Latitude</th>\n",
       "      <th>Longitude</th>\n",
       "      <th>Invoice #</th>\n",
       "      <th>Associate</th>\n",
       "      <th>Sold By</th>\n",
       "      <th>Branch</th>\n",
       "      <th>Service</th>\n",
       "      <th>Order Date</th>\n",
       "      <th>Work Date</th>\n",
       "      <th>Sub-Total</th>\n",
       "      <th>Days to Service</th>\n",
       "    </tr>\n",
       "  </thead>\n",
       "  <tbody>\n",
       "    <tr>\n",
       "      <th>0</th>\n",
       "      <td>497900</td>\n",
       "      <td>WESTBROOK</td>\n",
       "      <td>ME</td>\n",
       "      <td>04092-4624</td>\n",
       "      <td>43.701650</td>\n",
       "      <td>-70.337740</td>\n",
       "      <td>4598975</td>\n",
       "      <td>JHARDEN</td>\n",
       "      <td>CTERWEELE</td>\n",
       "      <td>Portland</td>\n",
       "      <td>HC INT RODENT</td>\n",
       "      <td>2020-12-07</td>\n",
       "      <td>2021-01-02</td>\n",
       "      <td>199.0</td>\n",
       "      <td>26</td>\n",
       "    </tr>\n",
       "    <tr>\n",
       "      <th>1</th>\n",
       "      <td>498821</td>\n",
       "      <td>KITTERY</td>\n",
       "      <td>ME</td>\n",
       "      <td>03904-1218</td>\n",
       "      <td>43.092901</td>\n",
       "      <td>-70.730190</td>\n",
       "      <td>4616907</td>\n",
       "      <td>AGARMON</td>\n",
       "      <td>CTERWEELE</td>\n",
       "      <td>Portland</td>\n",
       "      <td>HC INT RODENT</td>\n",
       "      <td>2020-12-29</td>\n",
       "      <td>2021-01-02</td>\n",
       "      <td>219.0</td>\n",
       "      <td>4</td>\n",
       "    </tr>\n",
       "    <tr>\n",
       "      <th>2</th>\n",
       "      <td>498843</td>\n",
       "      <td>FALMOUTH</td>\n",
       "      <td>ME</td>\n",
       "      <td>04105-1841</td>\n",
       "      <td>43.724210</td>\n",
       "      <td>-70.256150</td>\n",
       "      <td>4617023</td>\n",
       "      <td>AGARMON</td>\n",
       "      <td>CTERWEELE</td>\n",
       "      <td>Portland</td>\n",
       "      <td>HC INT RODENT</td>\n",
       "      <td>2020-12-30</td>\n",
       "      <td>2021-01-02</td>\n",
       "      <td>169.0</td>\n",
       "      <td>3</td>\n",
       "    </tr>\n",
       "    <tr>\n",
       "      <th>3</th>\n",
       "      <td>498621</td>\n",
       "      <td>ROCKLAND</td>\n",
       "      <td>ME</td>\n",
       "      <td>04841-2254</td>\n",
       "      <td>44.103830</td>\n",
       "      <td>-69.127360</td>\n",
       "      <td>4616577</td>\n",
       "      <td>ABRADSTREE</td>\n",
       "      <td>SLINGSHOT</td>\n",
       "      <td>Katahdin</td>\n",
       "      <td>HC INT RODENT</td>\n",
       "      <td>2020-12-28</td>\n",
       "      <td>2021-01-04</td>\n",
       "      <td>199.0</td>\n",
       "      <td>7</td>\n",
       "    </tr>\n",
       "    <tr>\n",
       "      <th>4</th>\n",
       "      <td>498657</td>\n",
       "      <td>STAMFORD</td>\n",
       "      <td>CT</td>\n",
       "      <td>06902-7447</td>\n",
       "      <td>41.037577</td>\n",
       "      <td>-73.529998</td>\n",
       "      <td>4616687</td>\n",
       "      <td>SMANGANELL</td>\n",
       "      <td>CTERWEELE</td>\n",
       "      <td>New Haven</td>\n",
       "      <td>HC INT RODENT</td>\n",
       "      <td>2020-12-29</td>\n",
       "      <td>2021-01-04</td>\n",
       "      <td>199.0</td>\n",
       "      <td>6</td>\n",
       "    </tr>\n",
       "  </tbody>\n",
       "</table>\n",
       "</div>"
      ],
      "text/plain": [
       "   Location       City State    Zip Code   Latitude  Longitude  Invoice #  \\\n",
       "0    497900  WESTBROOK    ME  04092-4624  43.701650 -70.337740    4598975   \n",
       "1    498821    KITTERY    ME  03904-1218  43.092901 -70.730190    4616907   \n",
       "2    498843   FALMOUTH    ME  04105-1841  43.724210 -70.256150    4617023   \n",
       "3    498621   ROCKLAND    ME  04841-2254  44.103830 -69.127360    4616577   \n",
       "4    498657   STAMFORD    CT  06902-7447  41.037577 -73.529998    4616687   \n",
       "\n",
       "    Associate    Sold By     Branch        Service Order Date  Work Date  \\\n",
       "0     JHARDEN  CTERWEELE   Portland  HC INT RODENT 2020-12-07 2021-01-02   \n",
       "1     AGARMON  CTERWEELE   Portland  HC INT RODENT 2020-12-29 2021-01-02   \n",
       "2     AGARMON  CTERWEELE   Portland  HC INT RODENT 2020-12-30 2021-01-02   \n",
       "3  ABRADSTREE  SLINGSHOT   Katahdin  HC INT RODENT 2020-12-28 2021-01-04   \n",
       "4  SMANGANELL  CTERWEELE  New Haven  HC INT RODENT 2020-12-29 2021-01-04   \n",
       "\n",
       "   Sub-Total  Days to Service  \n",
       "0      199.0               26  \n",
       "1      219.0                4  \n",
       "2      169.0                3  \n",
       "3      199.0                7  \n",
       "4      199.0                6  "
      ]
     },
     "execution_count": 15,
     "metadata": {},
     "output_type": "execute_result"
    }
   ],
   "source": [
    "df_invoices.head()"
   ]
  },
  {
   "cell_type": "markdown",
   "id": "e1501b70",
   "metadata": {},
   "source": [
    "<br><br>\n",
    "Lets trim our leads list. We are not interested in leads marked as 'Void' as they usually indicate duplicates. We also want to only focus on leads created by members of the inside sales team, so we will remove certain leads based on 'Salesperson'."
   ]
  },
  {
   "cell_type": "code",
   "execution_count": 16,
   "id": "0569ba57",
   "metadata": {},
   "outputs": [],
   "source": [
    "df_leads = df_leads[df_leads['Won Status'] != 'Void']"
   ]
  },
  {
   "cell_type": "code",
   "execution_count": 17,
   "id": "d03c490f",
   "metadata": {},
   "outputs": [],
   "source": [
    "salesperson_keep = ['JKEAN', 'KGISH', 'CMARTIN', 'KDOCHOD', 'BBROUGHAM', 'ZHOLSCLAW',\n",
    "                    'MCALDWELL','MKONRAD','MSCHEINDEL','LNICHOLS','BIVEY',\n",
    "                    'CPERRY','EMERRILL', 'LECHEGARAY','TOSBORN','SSTARR','MOJINAGA',\n",
    "                   'DBODEN','MLESTER','CTERWEELE', 'SLINGSHOT']"
   ]
  },
  {
   "cell_type": "code",
   "execution_count": 18,
   "id": "83c344c3",
   "metadata": {},
   "outputs": [],
   "source": [
    "df_leads = df_leads[df_leads['Salesperson'].isin(salesperson_keep)]\n",
    "df_invoices = df_invoices[df_invoices['Sold By'].isin(salesperson_keep)]"
   ]
  },
  {
   "cell_type": "markdown",
   "id": "88dd38b5",
   "metadata": {},
   "source": [
    "<br><br>\n",
    "First thing I notice is our zip codes are formatted in a different way to include more than just the 5 digit area code. We will remove these extra numbers so that we can join our zip code pricing tiers to the lead and invoice data."
   ]
  },
  {
   "cell_type": "code",
   "execution_count": 19,
   "id": "6d96c39a",
   "metadata": {},
   "outputs": [],
   "source": [
    "#reformat zip code column for merge with df_zipcodes\n",
    "df_leads['Zip Code'] = df_leads['Zip Code'].str.split('-', expand=True)[0]\n",
    "df_invoices['Zip Code'] = df_invoices['Zip Code'].str.split('-', expand=True)[0]"
   ]
  },
  {
   "cell_type": "code",
   "execution_count": 20,
   "id": "7f1bfef3",
   "metadata": {},
   "outputs": [],
   "source": [
    "#merge out leads and invoices with zip code df_zipcodes to add the price_tier\n",
    "df_leads = df_leads.merge(df_zipcodes, on='Zip Code', how='left')\n",
    "df_invoices = df_invoices.merge(df_zipcodes, on='Zip Code', how='left')"
   ]
  },
  {
   "cell_type": "code",
   "execution_count": 21,
   "id": "f5f8734c",
   "metadata": {},
   "outputs": [
    {
     "name": "stdout",
     "output_type": "stream",
     "text": [
      "34\n",
      "136\n"
     ]
    }
   ],
   "source": [
    "print(df_invoices['price_tier'].isna().sum())\n",
    "print(df_leads['price_tier'].isna().sum())"
   ]
  },
  {
   "cell_type": "markdown",
   "id": "b3c20410",
   "metadata": {},
   "source": [
    "<br><br>\n",
    "Just a few zip codes are missing from our dynamic pricing sheet. We will fill these missing values in as 0. Then we will convert to integers."
   ]
  },
  {
   "cell_type": "code",
   "execution_count": 22,
   "id": "a1ebf848",
   "metadata": {},
   "outputs": [],
   "source": [
    "df_leads['price_tier'] = df_leads['price_tier'].fillna(0).astype('int')\n",
    "df_invoices['price_tier'] = df_invoices['price_tier'].fillna(0).astype('int')"
   ]
  },
  {
   "cell_type": "code",
   "execution_count": 23,
   "id": "ae9f5196",
   "metadata": {
    "scrolled": false
   },
   "outputs": [
    {
     "data": {
      "text/plain": [
       "Location          0\n",
       "City              1\n",
       "State             1\n",
       "Zip Code          0\n",
       "Won Status        0\n",
       "Latitude         21\n",
       "Longitude        21\n",
       "Received Date     0\n",
       "Program           0\n",
       "Salesperson       0\n",
       "Branch            0\n",
       "price_tier        0\n",
       "dtype: int64"
      ]
     },
     "execution_count": 23,
     "metadata": {},
     "output_type": "execute_result"
    }
   ],
   "source": [
    "df_leads.isna().sum()"
   ]
  },
  {
   "cell_type": "code",
   "execution_count": 24,
   "id": "dadeb1b4",
   "metadata": {},
   "outputs": [
    {
     "data": {
      "text/plain": [
       "Int64Index([9308], dtype='int64')"
      ]
     },
     "execution_count": 24,
     "metadata": {},
     "output_type": "execute_result"
    }
   ],
   "source": [
    "df_leads[df_leads['City'].isna()].index"
   ]
  },
  {
   "cell_type": "code",
   "execution_count": 25,
   "id": "5d1c338c",
   "metadata": {},
   "outputs": [],
   "source": [
    "#removing this lead whihch has no branch information and thus is not of value\n",
    "df_leads.drop(labels=df_leads[df_leads['City'].isna()].index, inplace=True)"
   ]
  },
  {
   "cell_type": "markdown",
   "id": "b6f01a84",
   "metadata": {},
   "source": [
    "<br>\n",
    "The missing values in our long/lat columns will not effect analysis."
   ]
  },
  {
   "cell_type": "code",
   "execution_count": 26,
   "id": "d618c0e2",
   "metadata": {
    "scrolled": false
   },
   "outputs": [
    {
     "data": {
      "text/plain": [
       "Location           0\n",
       "City               0\n",
       "State              0\n",
       "Zip Code           0\n",
       "Latitude           0\n",
       "Longitude          0\n",
       "Invoice #          0\n",
       "Associate          0\n",
       "Sold By            0\n",
       "Branch             0\n",
       "Service            0\n",
       "Order Date         0\n",
       "Work Date          0\n",
       "Sub-Total          0\n",
       "Days to Service    0\n",
       "price_tier         0\n",
       "dtype: int64"
      ]
     },
     "execution_count": 26,
     "metadata": {},
     "output_type": "execute_result"
    }
   ],
   "source": [
    "df_invoices.isna().sum()"
   ]
  },
  {
   "cell_type": "markdown",
   "id": "74a9bdb8",
   "metadata": {},
   "source": [
    "<br>\n",
    "I will filter out leads that were recently created since the company is frequently scheduling out services 2+ weeks. Also, invoices that were sold in 2020 will be removed as well."
   ]
  },
  {
   "cell_type": "code",
   "execution_count": 27,
   "id": "a2d742c5",
   "metadata": {},
   "outputs": [],
   "source": [
    "#filter out invoices that were sold in 2020 or \n",
    "df_invoices = df_invoices[(df_invoices['Order Date'] > '2021-1-1')]\n",
    "\n",
    "#filter out leads that were started after mid October\n",
    "df_leads = df_leads[(df_leads['Received Date'] > '2021-1-1') & (df_leads['Received Date'] < '2021-10-14')]"
   ]
  },
  {
   "cell_type": "code",
   "execution_count": 28,
   "id": "38bb68de",
   "metadata": {},
   "outputs": [],
   "source": [
    "#drop leads marked as 'Sold Alternative'\n",
    "index_names = df_leads[(df_leads['Won Status'] == 'Sold Alternative') | (df_leads['Branch'] == 'Brunswick') | (df_leads['Won Status'] == 'Void')].copy().index\n",
    "df_leads.drop(index_names, inplace=True)"
   ]
  },
  {
   "cell_type": "code",
   "execution_count": 29,
   "id": "85cfe111",
   "metadata": {
    "scrolled": true
   },
   "outputs": [],
   "source": [
    "#create month column for analysis\n",
    "df_invoices['Month'] = df_invoices['Order Date'].dt.month\n",
    "df_leads['Month'] = df_leads['Received Date'].dt.month"
   ]
  },
  {
   "cell_type": "markdown",
   "id": "e82abd90",
   "metadata": {},
   "source": [
    "<br><br>\n",
    "The last feature I will need to encode is found in the invoice column 'Days to Service'. This is a measure of how long it took for the service to be completed once it had been sold. A large value is due to staffing issues. Long waits are expected to decrease sales as most customers have time sensitive problems. I will compute these values per branch and for each month. "
   ]
  },
  {
   "cell_type": "code",
   "execution_count": 30,
   "id": "906ad193",
   "metadata": {},
   "outputs": [],
   "source": [
    "df_branch_eta = df_invoices.groupby(['Branch', 'Month']).median().reset_index()[['Branch', 'Month', 'Days to Service']]"
   ]
  },
  {
   "cell_type": "code",
   "execution_count": 31,
   "id": "ba9a9f40",
   "metadata": {},
   "outputs": [
    {
     "data": {
      "text/html": [
       "<div>\n",
       "<style scoped>\n",
       "    .dataframe tbody tr th:only-of-type {\n",
       "        vertical-align: middle;\n",
       "    }\n",
       "\n",
       "    .dataframe tbody tr th {\n",
       "        vertical-align: top;\n",
       "    }\n",
       "\n",
       "    .dataframe thead th {\n",
       "        text-align: right;\n",
       "    }\n",
       "</style>\n",
       "<table border=\"1\" class=\"dataframe\">\n",
       "  <thead>\n",
       "    <tr style=\"text-align: right;\">\n",
       "      <th></th>\n",
       "      <th>Branch</th>\n",
       "      <th>Month</th>\n",
       "      <th>Days to Service</th>\n",
       "    </tr>\n",
       "  </thead>\n",
       "  <tbody>\n",
       "    <tr>\n",
       "      <th>0</th>\n",
       "      <td>Boston</td>\n",
       "      <td>1</td>\n",
       "      <td>4.0</td>\n",
       "    </tr>\n",
       "    <tr>\n",
       "      <th>1</th>\n",
       "      <td>Boston</td>\n",
       "      <td>2</td>\n",
       "      <td>3.5</td>\n",
       "    </tr>\n",
       "    <tr>\n",
       "      <th>2</th>\n",
       "      <td>Boston</td>\n",
       "      <td>3</td>\n",
       "      <td>5.5</td>\n",
       "    </tr>\n",
       "    <tr>\n",
       "      <th>3</th>\n",
       "      <td>Boston</td>\n",
       "      <td>4</td>\n",
       "      <td>8.0</td>\n",
       "    </tr>\n",
       "    <tr>\n",
       "      <th>4</th>\n",
       "      <td>Boston</td>\n",
       "      <td>5</td>\n",
       "      <td>4.0</td>\n",
       "    </tr>\n",
       "  </tbody>\n",
       "</table>\n",
       "</div>"
      ],
      "text/plain": [
       "   Branch  Month  Days to Service\n",
       "0  Boston      1              4.0\n",
       "1  Boston      2              3.5\n",
       "2  Boston      3              5.5\n",
       "3  Boston      4              8.0\n",
       "4  Boston      5              4.0"
      ]
     },
     "execution_count": 31,
     "metadata": {},
     "output_type": "execute_result"
    }
   ],
   "source": [
    "df_branch_eta.head()"
   ]
  },
  {
   "cell_type": "code",
   "execution_count": null,
   "id": "94e8bc5e",
   "metadata": {},
   "outputs": [],
   "source": [
    "df_zipcodes.to_excel('data\\zipcodes_cleaned.xlsx')\n",
    "df_invoices.to_excel('data\\invoices_cleaned.xlsx')\n",
    "df_invoices.to_excel('data\\invoices_cleaned.xlsx')"
   ]
  }
 ],
 "metadata": {
  "kernelspec": {
   "display_name": "Python 3 (ipykernel)",
   "language": "python",
   "name": "python3"
  },
  "language_info": {
   "codemirror_mode": {
    "name": "ipython",
    "version": 3
   },
   "file_extension": ".py",
   "mimetype": "text/x-python",
   "name": "python",
   "nbconvert_exporter": "python",
   "pygments_lexer": "ipython3",
   "version": "3.7.0"
  }
 },
 "nbformat": 4,
 "nbformat_minor": 5
}
